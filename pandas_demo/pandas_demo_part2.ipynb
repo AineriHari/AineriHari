{
 "cells": [
  {
   "cell_type": "code",
   "execution_count": 1,
   "id": "81b4315c-5d0f-4db7-b8cb-e9e00c92c799",
   "metadata": {},
   "outputs": [],
   "source": [
    "person = {\n",
    "    \"first\": [\"Hari\", \"Carey\"],\n",
    "    \"last\": [\"Aineri\", \"Schafer\"],\n",
    "    \"email\": [\"HariAineri@gmail.com\", \"CareySchafer@gmail.com\"]\n",
    "}"
   ]
  },
  {
   "cell_type": "code",
   "execution_count": 2,
   "id": "73cb04e0-7d7a-441e-b673-c88ebf68a47f",
   "metadata": {},
   "outputs": [
    {
     "data": {
      "text/plain": [
       "{'first': ['Hari', 'Carey'],\n",
       " 'last': ['Aineri', 'Schafer'],\n",
       " 'email': ['HariAineri@gmail.com', 'CareySchafer@gmail.com']}"
      ]
     },
     "execution_count": 2,
     "metadata": {},
     "output_type": "execute_result"
    }
   ],
   "source": [
    "person"
   ]
  },
  {
   "cell_type": "code",
   "execution_count": 3,
   "id": "e37cae46-3df9-4f6d-a929-9232e26c5cc8",
   "metadata": {},
   "outputs": [],
   "source": [
    "import pandas as pd"
   ]
  },
  {
   "cell_type": "code",
   "execution_count": 33,
   "id": "c1b681ae-a956-4e1b-b5ab-a9fe7106f79a",
   "metadata": {},
   "outputs": [],
   "source": [
    "df = pd.DataFrame(data=person)"
   ]
  },
  {
   "cell_type": "code",
   "execution_count": 32,
   "id": "1376f920-acf7-4451-8d82-94e09b624ae1",
   "metadata": {},
   "outputs": [
    {
     "data": {
      "text/html": [
       "<div>\n",
       "<style scoped>\n",
       "    .dataframe tbody tr th:only-of-type {\n",
       "        vertical-align: middle;\n",
       "    }\n",
       "\n",
       "    .dataframe tbody tr th {\n",
       "        vertical-align: top;\n",
       "    }\n",
       "\n",
       "    .dataframe thead th {\n",
       "        text-align: right;\n",
       "    }\n",
       "</style>\n",
       "<table border=\"1\" class=\"dataframe\">\n",
       "  <thead>\n",
       "    <tr style=\"text-align: right;\">\n",
       "      <th></th>\n",
       "      <th>first</th>\n",
       "      <th>last</th>\n",
       "      <th>email</th>\n",
       "    </tr>\n",
       "  </thead>\n",
       "  <tbody>\n",
       "    <tr>\n",
       "      <th>0</th>\n",
       "      <td>Hari</td>\n",
       "      <td>Aineri</td>\n",
       "      <td>HariAineri@gmail.com</td>\n",
       "    </tr>\n",
       "    <tr>\n",
       "      <th>1</th>\n",
       "      <td>Carey</td>\n",
       "      <td>Schafer</td>\n",
       "      <td>CareySchafer@gmail.com</td>\n",
       "    </tr>\n",
       "  </tbody>\n",
       "</table>\n",
       "</div>"
      ],
      "text/plain": [
       "   first     last                   email\n",
       "0   Hari   Aineri    HariAineri@gmail.com\n",
       "1  Carey  Schafer  CareySchafer@gmail.com"
      ]
     },
     "execution_count": 32,
     "metadata": {},
     "output_type": "execute_result"
    }
   ],
   "source": [
    "df"
   ]
  },
  {
   "cell_type": "code",
   "execution_count": 6,
   "id": "6426c99f-f97f-401e-9029-5db3dc213fe3",
   "metadata": {},
   "outputs": [
    {
     "data": {
      "text/plain": [
       "2"
      ]
     },
     "execution_count": 6,
     "metadata": {},
     "output_type": "execute_result"
    }
   ],
   "source": [
    "len(df)"
   ]
  },
  {
   "cell_type": "code",
   "execution_count": 7,
   "id": "0cc2276f-7bb9-4385-92a2-b3e14fa60b48",
   "metadata": {},
   "outputs": [
    {
     "data": {
      "text/plain": [
       "pandas.core.frame.DataFrame"
      ]
     },
     "execution_count": 7,
     "metadata": {},
     "output_type": "execute_result"
    }
   ],
   "source": [
    "type(df)"
   ]
  },
  {
   "cell_type": "code",
   "execution_count": 8,
   "id": "d75b6536-48c2-46a1-9b1d-bbb753ceda45",
   "metadata": {},
   "outputs": [
    {
     "data": {
      "text/plain": [
       "0      HariAineri@gmail.com\n",
       "1    CareySchafer@gmail.com\n",
       "Name: email, dtype: object"
      ]
     },
     "execution_count": 8,
     "metadata": {},
     "output_type": "execute_result"
    }
   ],
   "source": [
    "df['email']"
   ]
  },
  {
   "cell_type": "code",
   "execution_count": 9,
   "id": "c0b36af5-fd04-4de1-a5eb-c0083fb20037",
   "metadata": {},
   "outputs": [
    {
     "data": {
      "text/plain": [
       "pandas.core.series.Series"
      ]
     },
     "execution_count": 9,
     "metadata": {},
     "output_type": "execute_result"
    }
   ],
   "source": [
    "type(df['email'])"
   ]
  },
  {
   "cell_type": "code",
   "execution_count": 10,
   "id": "b4e997eb-22e8-4654-9e0f-d69c121de889",
   "metadata": {},
   "outputs": [
    {
     "data": {
      "text/plain": [
       "<bound method DataFrame.count of    first     last                   email\n",
       "0   Hari   Aineri    HariAineri@gmail.com\n",
       "1  Carey  Schafer  CareySchafer@gmail.com>"
      ]
     },
     "execution_count": 10,
     "metadata": {},
     "output_type": "execute_result"
    }
   ],
   "source": [
    "df.count"
   ]
  },
  {
   "cell_type": "code",
   "execution_count": 11,
   "id": "b124f5c3-a4cb-4a23-8dd9-4714390aa298",
   "metadata": {},
   "outputs": [
    {
     "name": "stdout",
     "output_type": "stream",
     "text": [
      "Help on method count in module pandas.core.frame:\n",
      "\n",
      "count(axis: 'Axis' = 0, numeric_only: 'bool' = False) method of pandas.core.frame.DataFrame instance\n",
      "    Count non-NA cells for each column or row.\n",
      "    \n",
      "    The values `None`, `NaN`, `NaT`, ``pandas.NA`` are considered NA.\n",
      "    \n",
      "    Parameters\n",
      "    ----------\n",
      "    axis : {0 or 'index', 1 or 'columns'}, default 0\n",
      "        If 0 or 'index' counts are generated for each column.\n",
      "        If 1 or 'columns' counts are generated for each row.\n",
      "    numeric_only : bool, default False\n",
      "        Include only `float`, `int` or `boolean` data.\n",
      "    \n",
      "    Returns\n",
      "    -------\n",
      "    Series\n",
      "        For each column/row the number of non-NA/null entries.\n",
      "    \n",
      "    See Also\n",
      "    --------\n",
      "    Series.count: Number of non-NA elements in a Series.\n",
      "    DataFrame.value_counts: Count unique combinations of columns.\n",
      "    DataFrame.shape: Number of DataFrame rows and columns (including NA\n",
      "        elements).\n",
      "    DataFrame.isna: Boolean same-sized DataFrame showing places of NA\n",
      "        elements.\n",
      "    \n",
      "    Examples\n",
      "    --------\n",
      "    Constructing DataFrame from a dictionary:\n",
      "    \n",
      "    >>> df = pd.DataFrame({\"Person\":\n",
      "    ...                    [\"John\", \"Myla\", \"Lewis\", \"John\", \"Myla\"],\n",
      "    ...                    \"Age\": [24., np.nan, 21., 33, 26],\n",
      "    ...                    \"Single\": [False, True, True, True, False]})\n",
      "    >>> df\n",
      "       Person   Age  Single\n",
      "    0    John  24.0   False\n",
      "    1    Myla   NaN    True\n",
      "    2   Lewis  21.0    True\n",
      "    3    John  33.0    True\n",
      "    4    Myla  26.0   False\n",
      "    \n",
      "    Notice the uncounted NA values:\n",
      "    \n",
      "    >>> df.count()\n",
      "    Person    5\n",
      "    Age       4\n",
      "    Single    5\n",
      "    dtype: int64\n",
      "    \n",
      "    Counts for each **row**:\n",
      "    \n",
      "    >>> df.count(axis='columns')\n",
      "    0    3\n",
      "    1    2\n",
      "    2    3\n",
      "    3    3\n",
      "    4    3\n",
      "    dtype: int64\n",
      "\n"
     ]
    }
   ],
   "source": [
    "help(df.count)"
   ]
  },
  {
   "cell_type": "code",
   "execution_count": 12,
   "id": "a55043c8-a701-4164-8258-3659602ea370",
   "metadata": {},
   "outputs": [
    {
     "data": {
      "text/plain": [
       "first    2\n",
       "last     2\n",
       "email    2\n",
       "dtype: int64"
      ]
     },
     "execution_count": 12,
     "metadata": {},
     "output_type": "execute_result"
    }
   ],
   "source": [
    "df.count()"
   ]
  },
  {
   "cell_type": "code",
   "execution_count": 13,
   "id": "dd534b42-4674-4db9-b125-a3d9d834183c",
   "metadata": {},
   "outputs": [
    {
     "data": {
      "text/html": [
       "<div>\n",
       "<style scoped>\n",
       "    .dataframe tbody tr th:only-of-type {\n",
       "        vertical-align: middle;\n",
       "    }\n",
       "\n",
       "    .dataframe tbody tr th {\n",
       "        vertical-align: top;\n",
       "    }\n",
       "\n",
       "    .dataframe thead th {\n",
       "        text-align: right;\n",
       "    }\n",
       "</style>\n",
       "<table border=\"1\" class=\"dataframe\">\n",
       "  <thead>\n",
       "    <tr style=\"text-align: right;\">\n",
       "      <th></th>\n",
       "      <th>first</th>\n",
       "      <th>last</th>\n",
       "      <th>email</th>\n",
       "    </tr>\n",
       "  </thead>\n",
       "  <tbody>\n",
       "    <tr>\n",
       "      <th>0</th>\n",
       "      <td>Hari</td>\n",
       "      <td>Aineri</td>\n",
       "      <td>HariAineri@gmail.com</td>\n",
       "    </tr>\n",
       "    <tr>\n",
       "      <th>1</th>\n",
       "      <td>Carey</td>\n",
       "      <td>Schafer</td>\n",
       "      <td>CareySchafer@gmail.com</td>\n",
       "    </tr>\n",
       "  </tbody>\n",
       "</table>\n",
       "</div>"
      ],
      "text/plain": [
       "   first     last                   email\n",
       "0   Hari   Aineri    HariAineri@gmail.com\n",
       "1  Carey  Schafer  CareySchafer@gmail.com"
      ]
     },
     "execution_count": 13,
     "metadata": {},
     "output_type": "execute_result"
    }
   ],
   "source": [
    "df"
   ]
  },
  {
   "cell_type": "code",
   "execution_count": 14,
   "id": "f19b3ea7-65f0-4638-a87a-dba89818543e",
   "metadata": {},
   "outputs": [
    {
     "data": {
      "text/plain": [
       "0      HariAineri@gmail.com\n",
       "1    CareySchafer@gmail.com\n",
       "Name: email, dtype: object"
      ]
     },
     "execution_count": 14,
     "metadata": {},
     "output_type": "execute_result"
    }
   ],
   "source": [
    "df[\"email\"]"
   ]
  },
  {
   "cell_type": "code",
   "execution_count": 15,
   "id": "1f8dc18c-6ab1-4da8-9efa-e217da312c64",
   "metadata": {},
   "outputs": [
    {
     "data": {
      "text/html": [
       "<div>\n",
       "<style scoped>\n",
       "    .dataframe tbody tr th:only-of-type {\n",
       "        vertical-align: middle;\n",
       "    }\n",
       "\n",
       "    .dataframe tbody tr th {\n",
       "        vertical-align: top;\n",
       "    }\n",
       "\n",
       "    .dataframe thead th {\n",
       "        text-align: right;\n",
       "    }\n",
       "</style>\n",
       "<table border=\"1\" class=\"dataframe\">\n",
       "  <thead>\n",
       "    <tr style=\"text-align: right;\">\n",
       "      <th></th>\n",
       "      <th>last</th>\n",
       "      <th>email</th>\n",
       "    </tr>\n",
       "  </thead>\n",
       "  <tbody>\n",
       "    <tr>\n",
       "      <th>0</th>\n",
       "      <td>Aineri</td>\n",
       "      <td>HariAineri@gmail.com</td>\n",
       "    </tr>\n",
       "    <tr>\n",
       "      <th>1</th>\n",
       "      <td>Schafer</td>\n",
       "      <td>CareySchafer@gmail.com</td>\n",
       "    </tr>\n",
       "  </tbody>\n",
       "</table>\n",
       "</div>"
      ],
      "text/plain": [
       "      last                   email\n",
       "0   Aineri    HariAineri@gmail.com\n",
       "1  Schafer  CareySchafer@gmail.com"
      ]
     },
     "execution_count": 15,
     "metadata": {},
     "output_type": "execute_result"
    }
   ],
   "source": [
    "df[['last', 'email']]"
   ]
  },
  {
   "cell_type": "code",
   "execution_count": 16,
   "id": "535c84c3-09c5-4c94-ad10-71ed5dbaab51",
   "metadata": {},
   "outputs": [
    {
     "data": {
      "text/plain": [
       "Index(['first', 'last', 'email'], dtype='object')"
      ]
     },
     "execution_count": 16,
     "metadata": {},
     "output_type": "execute_result"
    }
   ],
   "source": [
    "df.columns"
   ]
  },
  {
   "cell_type": "code",
   "execution_count": 17,
   "id": "16f988fd-6ca7-47a0-a8a6-bc46244c73e2",
   "metadata": {},
   "outputs": [
    {
     "data": {
      "text/plain": [
       "0      HariAineri@gmail.com\n",
       "1    CareySchafer@gmail.com\n",
       "Name: email, dtype: object"
      ]
     },
     "execution_count": 17,
     "metadata": {},
     "output_type": "execute_result"
    }
   ],
   "source": [
    "df.iloc[[0, 1], 2]"
   ]
  },
  {
   "cell_type": "code",
   "execution_count": 18,
   "id": "e5cd5ced-7768-4012-aab6-b892f0f8e0a4",
   "metadata": {},
   "outputs": [
    {
     "data": {
      "text/plain": [
       "0      HariAineri@gmail.com\n",
       "1    CareySchafer@gmail.com\n",
       "Name: email, dtype: object"
      ]
     },
     "execution_count": 18,
     "metadata": {},
     "output_type": "execute_result"
    }
   ],
   "source": [
    "df.loc[[0, 1], 'email']"
   ]
  },
  {
   "cell_type": "code",
   "execution_count": 19,
   "id": "e76d5d0d-c3b7-4c56-8227-4549860d7434",
   "metadata": {},
   "outputs": [
    {
     "data": {
      "text/html": [
       "<div>\n",
       "<style scoped>\n",
       "    .dataframe tbody tr th:only-of-type {\n",
       "        vertical-align: middle;\n",
       "    }\n",
       "\n",
       "    .dataframe tbody tr th {\n",
       "        vertical-align: top;\n",
       "    }\n",
       "\n",
       "    .dataframe thead th {\n",
       "        text-align: right;\n",
       "    }\n",
       "</style>\n",
       "<table border=\"1\" class=\"dataframe\">\n",
       "  <thead>\n",
       "    <tr style=\"text-align: right;\">\n",
       "      <th></th>\n",
       "      <th>last</th>\n",
       "      <th>email</th>\n",
       "    </tr>\n",
       "  </thead>\n",
       "  <tbody>\n",
       "    <tr>\n",
       "      <th>0</th>\n",
       "      <td>Aineri</td>\n",
       "      <td>HariAineri@gmail.com</td>\n",
       "    </tr>\n",
       "    <tr>\n",
       "      <th>1</th>\n",
       "      <td>Schafer</td>\n",
       "      <td>CareySchafer@gmail.com</td>\n",
       "    </tr>\n",
       "  </tbody>\n",
       "</table>\n",
       "</div>"
      ],
      "text/plain": [
       "      last                   email\n",
       "0   Aineri    HariAineri@gmail.com\n",
       "1  Schafer  CareySchafer@gmail.com"
      ]
     },
     "execution_count": 19,
     "metadata": {},
     "output_type": "execute_result"
    }
   ],
   "source": [
    "df.loc[[0, 1], ['last', 'email']]"
   ]
  },
  {
   "cell_type": "code",
   "execution_count": 34,
   "id": "2fbcaa8a-09d6-431e-adcb-f17abec7fb32",
   "metadata": {},
   "outputs": [],
   "source": [
    "df.set_index('email', inplace=True)"
   ]
  },
  {
   "cell_type": "code",
   "execution_count": 21,
   "id": "37f012f3-2877-4392-b2a7-b9119d7ef2c5",
   "metadata": {},
   "outputs": [
    {
     "data": {
      "text/plain": [
       "Index(['HariAineri@gmail.com', 'CareySchafer@gmail.com'], dtype='object', name='email')"
      ]
     },
     "execution_count": 21,
     "metadata": {},
     "output_type": "execute_result"
    }
   ],
   "source": [
    "df.index"
   ]
  },
  {
   "cell_type": "code",
   "execution_count": 22,
   "id": "ef66ce3d-c0b5-4259-80d6-9fe7259f9884",
   "metadata": {},
   "outputs": [
    {
     "data": {
      "text/html": [
       "<div>\n",
       "<style scoped>\n",
       "    .dataframe tbody tr th:only-of-type {\n",
       "        vertical-align: middle;\n",
       "    }\n",
       "\n",
       "    .dataframe tbody tr th {\n",
       "        vertical-align: top;\n",
       "    }\n",
       "\n",
       "    .dataframe thead th {\n",
       "        text-align: right;\n",
       "    }\n",
       "</style>\n",
       "<table border=\"1\" class=\"dataframe\">\n",
       "  <thead>\n",
       "    <tr style=\"text-align: right;\">\n",
       "      <th></th>\n",
       "      <th>first</th>\n",
       "      <th>last</th>\n",
       "    </tr>\n",
       "    <tr>\n",
       "      <th>email</th>\n",
       "      <th></th>\n",
       "      <th></th>\n",
       "    </tr>\n",
       "  </thead>\n",
       "  <tbody>\n",
       "    <tr>\n",
       "      <th>HariAineri@gmail.com</th>\n",
       "      <td>Hari</td>\n",
       "      <td>Aineri</td>\n",
       "    </tr>\n",
       "    <tr>\n",
       "      <th>CareySchafer@gmail.com</th>\n",
       "      <td>Carey</td>\n",
       "      <td>Schafer</td>\n",
       "    </tr>\n",
       "  </tbody>\n",
       "</table>\n",
       "</div>"
      ],
      "text/plain": [
       "                        first     last\n",
       "email                                 \n",
       "HariAineri@gmail.com     Hari   Aineri\n",
       "CareySchafer@gmail.com  Carey  Schafer"
      ]
     },
     "execution_count": 22,
     "metadata": {},
     "output_type": "execute_result"
    }
   ],
   "source": [
    "df"
   ]
  },
  {
   "cell_type": "code",
   "execution_count": 23,
   "id": "6d082d85-2214-439a-8677-e056e7633d40",
   "metadata": {},
   "outputs": [],
   "source": [
    "df.set_index('first', inplace=True)"
   ]
  },
  {
   "cell_type": "code",
   "execution_count": 24,
   "id": "d600628f-4a81-4551-9d7a-7a54cd709909",
   "metadata": {},
   "outputs": [
    {
     "data": {
      "text/html": [
       "<div>\n",
       "<style scoped>\n",
       "    .dataframe tbody tr th:only-of-type {\n",
       "        vertical-align: middle;\n",
       "    }\n",
       "\n",
       "    .dataframe tbody tr th {\n",
       "        vertical-align: top;\n",
       "    }\n",
       "\n",
       "    .dataframe thead th {\n",
       "        text-align: right;\n",
       "    }\n",
       "</style>\n",
       "<table border=\"1\" class=\"dataframe\">\n",
       "  <thead>\n",
       "    <tr style=\"text-align: right;\">\n",
       "      <th></th>\n",
       "      <th>last</th>\n",
       "    </tr>\n",
       "    <tr>\n",
       "      <th>first</th>\n",
       "      <th></th>\n",
       "    </tr>\n",
       "  </thead>\n",
       "  <tbody>\n",
       "    <tr>\n",
       "      <th>Hari</th>\n",
       "      <td>Aineri</td>\n",
       "    </tr>\n",
       "    <tr>\n",
       "      <th>Carey</th>\n",
       "      <td>Schafer</td>\n",
       "    </tr>\n",
       "  </tbody>\n",
       "</table>\n",
       "</div>"
      ],
      "text/plain": [
       "          last\n",
       "first         \n",
       "Hari    Aineri\n",
       "Carey  Schafer"
      ]
     },
     "execution_count": 24,
     "metadata": {},
     "output_type": "execute_result"
    }
   ],
   "source": [
    "df"
   ]
  },
  {
   "cell_type": "code",
   "execution_count": 25,
   "id": "246bc7ac-cb65-42a6-bb1a-1ac47b9ad472",
   "metadata": {},
   "outputs": [
    {
     "data": {
      "text/plain": [
       "Index(['Hari', 'Carey'], dtype='object', name='first')"
      ]
     },
     "execution_count": 25,
     "metadata": {},
     "output_type": "execute_result"
    }
   ],
   "source": [
    "df.index"
   ]
  },
  {
   "cell_type": "code",
   "execution_count": 26,
   "id": "a7c3a5b3-9cbe-4203-a9db-a0668f0ce4e8",
   "metadata": {},
   "outputs": [
    {
     "data": {
      "text/html": [
       "<div>\n",
       "<style scoped>\n",
       "    .dataframe tbody tr th:only-of-type {\n",
       "        vertical-align: middle;\n",
       "    }\n",
       "\n",
       "    .dataframe tbody tr th {\n",
       "        vertical-align: top;\n",
       "    }\n",
       "\n",
       "    .dataframe thead th {\n",
       "        text-align: right;\n",
       "    }\n",
       "</style>\n",
       "<table border=\"1\" class=\"dataframe\">\n",
       "  <thead>\n",
       "    <tr style=\"text-align: right;\">\n",
       "      <th></th>\n",
       "      <th>last</th>\n",
       "    </tr>\n",
       "    <tr>\n",
       "      <th>first</th>\n",
       "      <th></th>\n",
       "    </tr>\n",
       "  </thead>\n",
       "  <tbody>\n",
       "    <tr>\n",
       "      <th>Hari</th>\n",
       "      <td>Aineri</td>\n",
       "    </tr>\n",
       "    <tr>\n",
       "      <th>Carey</th>\n",
       "      <td>Schafer</td>\n",
       "    </tr>\n",
       "  </tbody>\n",
       "</table>\n",
       "</div>"
      ],
      "text/plain": [
       "          last\n",
       "first         \n",
       "Hari    Aineri\n",
       "Carey  Schafer"
      ]
     },
     "execution_count": 26,
     "metadata": {},
     "output_type": "execute_result"
    }
   ],
   "source": [
    "df"
   ]
  },
  {
   "cell_type": "code",
   "execution_count": 27,
   "id": "67eb41b8-2309-4616-a36f-353f69048cb0",
   "metadata": {},
   "outputs": [
    {
     "data": {
      "text/plain": [
       "last    2\n",
       "dtype: int64"
      ]
     },
     "execution_count": 27,
     "metadata": {},
     "output_type": "execute_result"
    }
   ],
   "source": [
    "df.count()"
   ]
  },
  {
   "cell_type": "code",
   "execution_count": 35,
   "id": "6d432421-330a-48c5-8ce2-97af5a0d0f26",
   "metadata": {},
   "outputs": [
    {
     "data": {
      "text/plain": [
       "'Aineri'"
      ]
     },
     "execution_count": 35,
     "metadata": {},
     "output_type": "execute_result"
    }
   ],
   "source": [
    "df.loc['HariAineri@gmail.com', 'last']"
   ]
  },
  {
   "cell_type": "code",
   "execution_count": 36,
   "id": "da7da060-2b78-4d02-8bcb-9705abd5fd5c",
   "metadata": {},
   "outputs": [],
   "source": [
    "df.reset_index(inplace=True)"
   ]
  },
  {
   "cell_type": "code",
   "execution_count": 37,
   "id": "5407ab49-0941-4908-858a-8cbe54b3fabb",
   "metadata": {},
   "outputs": [
    {
     "data": {
      "text/html": [
       "<div>\n",
       "<style scoped>\n",
       "    .dataframe tbody tr th:only-of-type {\n",
       "        vertical-align: middle;\n",
       "    }\n",
       "\n",
       "    .dataframe tbody tr th {\n",
       "        vertical-align: top;\n",
       "    }\n",
       "\n",
       "    .dataframe thead th {\n",
       "        text-align: right;\n",
       "    }\n",
       "</style>\n",
       "<table border=\"1\" class=\"dataframe\">\n",
       "  <thead>\n",
       "    <tr style=\"text-align: right;\">\n",
       "      <th></th>\n",
       "      <th>email</th>\n",
       "      <th>first</th>\n",
       "      <th>last</th>\n",
       "    </tr>\n",
       "  </thead>\n",
       "  <tbody>\n",
       "    <tr>\n",
       "      <th>0</th>\n",
       "      <td>HariAineri@gmail.com</td>\n",
       "      <td>Hari</td>\n",
       "      <td>Aineri</td>\n",
       "    </tr>\n",
       "    <tr>\n",
       "      <th>1</th>\n",
       "      <td>CareySchafer@gmail.com</td>\n",
       "      <td>Carey</td>\n",
       "      <td>Schafer</td>\n",
       "    </tr>\n",
       "  </tbody>\n",
       "</table>\n",
       "</div>"
      ],
      "text/plain": [
       "                    email  first     last\n",
       "0    HariAineri@gmail.com   Hari   Aineri\n",
       "1  CareySchafer@gmail.com  Carey  Schafer"
      ]
     },
     "execution_count": 37,
     "metadata": {},
     "output_type": "execute_result"
    }
   ],
   "source": [
    "df"
   ]
  },
  {
   "cell_type": "code",
   "execution_count": null,
   "id": "10f2778d-e635-481e-ac82-5c9fedb58d91",
   "metadata": {},
   "outputs": [],
   "source": [
    "df.loc[0]"
   ]
  },
  {
   "cell_type": "code",
   "execution_count": null,
   "id": "ec08e706-fcd2-49a4-a8c5-4320da65b679",
   "metadata": {},
   "outputs": [],
   "source": [
    "df.sort_index(ascending=False)"
   ]
  },
  {
   "cell_type": "code",
   "execution_count": null,
   "id": "f285413b-d318-4a85-b653-bf85c410eefa",
   "metadata": {},
   "outputs": [],
   "source": [
    "type(df['email'])"
   ]
  },
  {
   "cell_type": "code",
   "execution_count": 39,
   "id": "552fba0c-c456-4904-bed4-f1443c75bbf5",
   "metadata": {},
   "outputs": [],
   "source": [
    "filt = (df['last'] == 'Aineri')"
   ]
  },
  {
   "cell_type": "code",
   "execution_count": 40,
   "id": "216fde94-8235-4dd5-aa39-12fe1583ab2c",
   "metadata": {},
   "outputs": [
    {
     "data": {
      "text/plain": [
       "0     True\n",
       "1    False\n",
       "Name: last, dtype: bool"
      ]
     },
     "execution_count": 40,
     "metadata": {},
     "output_type": "execute_result"
    }
   ],
   "source": [
    "filt"
   ]
  },
  {
   "cell_type": "code",
   "execution_count": 41,
   "id": "2b0dcd15-96fd-4faa-9fb8-40ed58a7a0c9",
   "metadata": {},
   "outputs": [
    {
     "data": {
      "text/html": [
       "<div>\n",
       "<style scoped>\n",
       "    .dataframe tbody tr th:only-of-type {\n",
       "        vertical-align: middle;\n",
       "    }\n",
       "\n",
       "    .dataframe tbody tr th {\n",
       "        vertical-align: top;\n",
       "    }\n",
       "\n",
       "    .dataframe thead th {\n",
       "        text-align: right;\n",
       "    }\n",
       "</style>\n",
       "<table border=\"1\" class=\"dataframe\">\n",
       "  <thead>\n",
       "    <tr style=\"text-align: right;\">\n",
       "      <th></th>\n",
       "      <th>email</th>\n",
       "      <th>first</th>\n",
       "      <th>last</th>\n",
       "    </tr>\n",
       "  </thead>\n",
       "  <tbody>\n",
       "    <tr>\n",
       "      <th>0</th>\n",
       "      <td>HariAineri@gmail.com</td>\n",
       "      <td>Hari</td>\n",
       "      <td>Aineri</td>\n",
       "    </tr>\n",
       "  </tbody>\n",
       "</table>\n",
       "</div>"
      ],
      "text/plain": [
       "                  email first    last\n",
       "0  HariAineri@gmail.com  Hari  Aineri"
      ]
     },
     "execution_count": 41,
     "metadata": {},
     "output_type": "execute_result"
    }
   ],
   "source": [
    "df[filt]"
   ]
  },
  {
   "cell_type": "code",
   "execution_count": 42,
   "id": "db91ecd3-8d85-4257-b1cd-2a3d70f4d1d9",
   "metadata": {},
   "outputs": [
    {
     "data": {
      "text/plain": [
       "0    HariAineri@gmail.com\n",
       "Name: email, dtype: object"
      ]
     },
     "execution_count": 42,
     "metadata": {},
     "output_type": "execute_result"
    }
   ],
   "source": [
    "df.loc[filt, 'email']"
   ]
  },
  {
   "cell_type": "code",
   "execution_count": null,
   "id": "613783b0-2307-4e1d-9954-65ad80795903",
   "metadata": {},
   "outputs": [],
   "source": [
    "filt = (df['last'] == 'Aineri') & (df['first'] == 'Hari')"
   ]
  },
  {
   "cell_type": "code",
   "execution_count": null,
   "id": "4f5d1780-64ab-4d90-bc98-12aa28810652",
   "metadata": {},
   "outputs": [],
   "source": [
    "filt"
   ]
  },
  {
   "cell_type": "code",
   "execution_count": null,
   "id": "6ac37031-2221-48eb-bc66-1961a3c84176",
   "metadata": {},
   "outputs": [],
   "source": [
    "df.loc[filt]"
   ]
  },
  {
   "cell_type": "code",
   "execution_count": null,
   "id": "e43c9f56-7683-4130-b1e5-4541285a0b27",
   "metadata": {},
   "outputs": [],
   "source": []
  }
 ],
 "metadata": {
  "kernelspec": {
   "display_name": "Python 3 (ipykernel)",
   "language": "python",
   "name": "python3"
  },
  "language_info": {
   "codemirror_mode": {
    "name": "ipython",
    "version": 3
   },
   "file_extension": ".py",
   "mimetype": "text/x-python",
   "name": "python",
   "nbconvert_exporter": "python",
   "pygments_lexer": "ipython3",
   "version": "3.11.3"
  }
 },
 "nbformat": 4,
 "nbformat_minor": 5
}
