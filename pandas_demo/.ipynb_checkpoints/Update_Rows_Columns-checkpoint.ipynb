{
 "cells": [
  {
   "cell_type": "code",
   "execution_count": 1,
   "id": "afdcb2ca-d9ad-4082-aed6-37e1b10bb495",
   "metadata": {},
   "outputs": [],
   "source": [
    "person = {\n",
    "    \"first\": [\"Hari\", \"Carey\"],\n",
    "    \"last\": [\"Aineri\", \"Schafer\"],\n",
    "    \"email\": [\"HariAineri@gmail.com\", \"CareySchafer@gmail.com\"]\n",
    "}"
   ]
  },
  {
   "cell_type": "code",
   "execution_count": null,
   "id": "b9b52c51-1a50-4068-b4ac-1b376f77f5fc",
   "metadata": {},
   "outputs": [],
   "source": []
  }
 ],
 "metadata": {
  "kernelspec": {
   "display_name": "Python 3 (ipykernel)",
   "language": "python",
   "name": "python3"
  },
  "language_info": {
   "codemirror_mode": {
    "name": "ipython",
    "version": 3
   },
   "file_extension": ".py",
   "mimetype": "text/x-python",
   "name": "python",
   "nbconvert_exporter": "python",
   "pygments_lexer": "ipython3",
   "version": "3.11.3"
  }
 },
 "nbformat": 4,
 "nbformat_minor": 5
}
